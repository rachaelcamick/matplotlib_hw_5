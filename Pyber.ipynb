{
 "cells": [
  {
   "cell_type": "code",
   "execution_count": 1,
   "metadata": {},
   "outputs": [],
   "source": [
    "%matplotlib inline"
   ]
  },
  {
   "cell_type": "code",
   "execution_count": 2,
   "metadata": {},
   "outputs": [],
   "source": [
    "import matplotlib.pyplot as plt\n",
    "import pandas as pd\n",
    "import numpy as np"
   ]
  },
  {
   "cell_type": "code",
   "execution_count": 3,
   "metadata": {},
   "outputs": [],
   "source": [
    "# load csv file\n",
    "citypath = \"City_Data.csv\"\n",
    "ridepath = \"Ride_Data.csv\"\n",
    "city_data = pd.read_csv(citypath)\n",
    "ride_data = pd.read_csv(ridepath)"
   ]
  },
  {
   "cell_type": "code",
   "execution_count": 4,
   "metadata": {},
   "outputs": [],
   "source": [
    "# Combine the data into a single dataset using outer method so as not to lose\n",
    "# data that does not appear in both during the merge\n",
    "\n",
    "combined = pd.merge(city_data, ride_data, how=\"outer\", on=\"city\")\n"
   ]
  },
  {
   "cell_type": "code",
   "execution_count": 5,
   "metadata": {},
   "outputs": [
    {
     "data": {
      "text/html": [
       "<div>\n",
       "<style scoped>\n",
       "    .dataframe tbody tr th:only-of-type {\n",
       "        vertical-align: middle;\n",
       "    }\n",
       "\n",
       "    .dataframe tbody tr th {\n",
       "        vertical-align: top;\n",
       "    }\n",
       "\n",
       "    .dataframe thead th {\n",
       "        text-align: right;\n",
       "    }\n",
       "</style>\n",
       "<table border=\"1\" class=\"dataframe\">\n",
       "  <thead>\n",
       "    <tr style=\"text-align: right;\">\n",
       "      <th></th>\n",
       "      <th>city</th>\n",
       "      <th>driver_count</th>\n",
       "      <th>type</th>\n",
       "      <th>date</th>\n",
       "      <th>fare</th>\n",
       "      <th>ride_id</th>\n",
       "    </tr>\n",
       "  </thead>\n",
       "  <tbody>\n",
       "    <tr>\n",
       "      <th>0</th>\n",
       "      <td>Richardfort</td>\n",
       "      <td>38</td>\n",
       "      <td>Urban</td>\n",
       "      <td>2/24/2018 8:40</td>\n",
       "      <td>13.93</td>\n",
       "      <td>5.628550e+12</td>\n",
       "    </tr>\n",
       "    <tr>\n",
       "      <th>1</th>\n",
       "      <td>Richardfort</td>\n",
       "      <td>38</td>\n",
       "      <td>Urban</td>\n",
       "      <td>2/13/2018 12:46</td>\n",
       "      <td>14.00</td>\n",
       "      <td>9.100500e+11</td>\n",
       "    </tr>\n",
       "    <tr>\n",
       "      <th>2</th>\n",
       "      <td>Richardfort</td>\n",
       "      <td>38</td>\n",
       "      <td>Urban</td>\n",
       "      <td>2/16/2018 13:52</td>\n",
       "      <td>17.92</td>\n",
       "      <td>8.206390e+11</td>\n",
       "    </tr>\n",
       "    <tr>\n",
       "      <th>3</th>\n",
       "      <td>Richardfort</td>\n",
       "      <td>38</td>\n",
       "      <td>Urban</td>\n",
       "      <td>2/1/2018 20:18</td>\n",
       "      <td>10.26</td>\n",
       "      <td>9.554940e+12</td>\n",
       "    </tr>\n",
       "    <tr>\n",
       "      <th>4</th>\n",
       "      <td>Richardfort</td>\n",
       "      <td>38</td>\n",
       "      <td>Urban</td>\n",
       "      <td>4/17/2018 2:26</td>\n",
       "      <td>23.00</td>\n",
       "      <td>7.200210e+11</td>\n",
       "    </tr>\n",
       "  </tbody>\n",
       "</table>\n",
       "</div>"
      ],
      "text/plain": [
       "          city  driver_count   type             date   fare       ride_id\n",
       "0  Richardfort            38  Urban   2/24/2018 8:40  13.93  5.628550e+12\n",
       "1  Richardfort            38  Urban  2/13/2018 12:46  14.00  9.100500e+11\n",
       "2  Richardfort            38  Urban  2/16/2018 13:52  17.92  8.206390e+11\n",
       "3  Richardfort            38  Urban   2/1/2018 20:18  10.26  9.554940e+12\n",
       "4  Richardfort            38  Urban   4/17/2018 2:26  23.00  7.200210e+11"
      ]
     },
     "execution_count": 5,
     "metadata": {},
     "output_type": "execute_result"
    }
   ],
   "source": [
    "# display the data table for preview\n",
    "combined.head()"
   ]
  },
  {
   "cell_type": "code",
   "execution_count": 6,
   "metadata": {},
   "outputs": [],
   "source": [
    "# Create Bubble Plot of Ride Sharing Data==="
   ]
  },
  {
   "cell_type": "code",
   "execution_count": 8,
   "metadata": {},
   "outputs": [],
   "source": [
    "# Determine the number of rides per city\n",
    "# start by creating city groups\n",
    "city_group = combined.groupby('city')\n",
    "#if just did city_group.mean(), we would get avg of every column for each city\n",
    "#by specifying \"fare\" column in brackets after .mean() we just get avg fare\n",
    "#for each city\n",
    "avg_fare = city_group.mean()['fare']\n",
    "ride_count = city_group['ride_id'].count()\n",
    "driver_count = city_group.mean()['driver_count']"
   ]
  },
  {
   "cell_type": "code",
   "execution_count": null,
   "metadata": {
    "scrolled": true
   },
   "outputs": [],
   "source": [
    "# make new data frame\n",
    "\n"
   ]
  },
  {
   "cell_type": "code",
   "execution_count": null,
   "metadata": {},
   "outputs": [],
   "source": [
    "###plt.scatter(combined_data.driver_count, combined_data.fare, s=city_ride_count)"
   ]
  },
  {
   "cell_type": "code",
   "execution_count": null,
   "metadata": {},
   "outputs": [],
   "source": []
  }
 ],
 "metadata": {
  "kernelspec": {
   "display_name": "Python 3",
   "language": "python",
   "name": "python3"
  },
  "language_info": {
   "codemirror_mode": {
    "name": "ipython",
    "version": 3
   },
   "file_extension": ".py",
   "mimetype": "text/x-python",
   "name": "python",
   "nbconvert_exporter": "python",
   "pygments_lexer": "ipython3",
   "version": "3.6.6"
  }
 },
 "nbformat": 4,
 "nbformat_minor": 2
}
