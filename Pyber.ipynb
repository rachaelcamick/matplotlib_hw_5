{
 "cells": [
  {
   "cell_type": "code",
   "execution_count": 1,
   "metadata": {},
   "outputs": [],
   "source": [
    "%matplotlib inline"
   ]
  },
  {
   "cell_type": "code",
   "execution_count": 2,
   "metadata": {},
   "outputs": [],
   "source": [
    "import matplotlib.pyplot as plt\n",
    "import pandas as pd\n",
    "import numpy as np"
   ]
  },
  {
   "cell_type": "code",
   "execution_count": 3,
   "metadata": {},
   "outputs": [],
   "source": [
    "# load csv file\n",
    "citypath = \"City_Data.csv\"\n",
    "ridepath = \"Ride_Data.csv\"\n",
    "city_data = pd.read_csv(citypath)\n",
    "ride_data = pd.read_csv(ridepath)"
   ]
  },
  {
   "cell_type": "code",
   "execution_count": 4,
   "metadata": {},
   "outputs": [
    {
     "data": {
      "text/html": [
       "<div>\n",
       "<style scoped>\n",
       "    .dataframe tbody tr th:only-of-type {\n",
       "        vertical-align: middle;\n",
       "    }\n",
       "\n",
       "    .dataframe tbody tr th {\n",
       "        vertical-align: top;\n",
       "    }\n",
       "\n",
       "    .dataframe thead th {\n",
       "        text-align: right;\n",
       "    }\n",
       "</style>\n",
       "<table border=\"1\" class=\"dataframe\">\n",
       "  <thead>\n",
       "    <tr style=\"text-align: right;\">\n",
       "      <th></th>\n",
       "      <th>city</th>\n",
       "      <th>driver_count</th>\n",
       "      <th>type</th>\n",
       "    </tr>\n",
       "  </thead>\n",
       "  <tbody>\n",
       "    <tr>\n",
       "      <th>0</th>\n",
       "      <td>Richardfort</td>\n",
       "      <td>38</td>\n",
       "      <td>Urban</td>\n",
       "    </tr>\n",
       "    <tr>\n",
       "      <th>1</th>\n",
       "      <td>Williamsstad</td>\n",
       "      <td>59</td>\n",
       "      <td>Urban</td>\n",
       "    </tr>\n",
       "    <tr>\n",
       "      <th>2</th>\n",
       "      <td>Port Angela</td>\n",
       "      <td>67</td>\n",
       "      <td>Urban</td>\n",
       "    </tr>\n",
       "    <tr>\n",
       "      <th>3</th>\n",
       "      <td>Rodneyfort</td>\n",
       "      <td>34</td>\n",
       "      <td>Urban</td>\n",
       "    </tr>\n",
       "    <tr>\n",
       "      <th>4</th>\n",
       "      <td>West Robert</td>\n",
       "      <td>39</td>\n",
       "      <td>Urban</td>\n",
       "    </tr>\n",
       "  </tbody>\n",
       "</table>\n",
       "</div>"
      ],
      "text/plain": [
       "           city  driver_count   type\n",
       "0   Richardfort            38  Urban\n",
       "1  Williamsstad            59  Urban\n",
       "2   Port Angela            67  Urban\n",
       "3    Rodneyfort            34  Urban\n",
       "4   West Robert            39  Urban"
      ]
     },
     "execution_count": 4,
     "metadata": {},
     "output_type": "execute_result"
    }
   ],
   "source": [
    "city_data.head()"
   ]
  },
  {
   "cell_type": "code",
   "execution_count": 5,
   "metadata": {},
   "outputs": [],
   "source": [
    "# Combine the data into a single dataset using outer method so as not to lose\n",
    "# data that does not appear in both during the merge\n",
    "\n",
    "combined = pd.merge(city_data, ride_data, how=\"outer\", on=\"city\")"
   ]
  },
  {
   "cell_type": "code",
   "execution_count": 6,
   "metadata": {},
   "outputs": [
    {
     "data": {
      "text/html": [
       "<div>\n",
       "<style scoped>\n",
       "    .dataframe tbody tr th:only-of-type {\n",
       "        vertical-align: middle;\n",
       "    }\n",
       "\n",
       "    .dataframe tbody tr th {\n",
       "        vertical-align: top;\n",
       "    }\n",
       "\n",
       "    .dataframe thead th {\n",
       "        text-align: right;\n",
       "    }\n",
       "</style>\n",
       "<table border=\"1\" class=\"dataframe\">\n",
       "  <thead>\n",
       "    <tr style=\"text-align: right;\">\n",
       "      <th></th>\n",
       "      <th>city</th>\n",
       "      <th>driver_count</th>\n",
       "      <th>type</th>\n",
       "      <th>date</th>\n",
       "      <th>fare</th>\n",
       "      <th>ride_id</th>\n",
       "    </tr>\n",
       "  </thead>\n",
       "  <tbody>\n",
       "    <tr>\n",
       "      <th>0</th>\n",
       "      <td>Richardfort</td>\n",
       "      <td>38</td>\n",
       "      <td>Urban</td>\n",
       "      <td>2/24/2018 8:40</td>\n",
       "      <td>13.93</td>\n",
       "      <td>5.630000e+12</td>\n",
       "    </tr>\n",
       "    <tr>\n",
       "      <th>1</th>\n",
       "      <td>Richardfort</td>\n",
       "      <td>38</td>\n",
       "      <td>Urban</td>\n",
       "      <td>2/13/2018 12:46</td>\n",
       "      <td>14.00</td>\n",
       "      <td>9.100000e+11</td>\n",
       "    </tr>\n",
       "    <tr>\n",
       "      <th>2</th>\n",
       "      <td>Richardfort</td>\n",
       "      <td>38</td>\n",
       "      <td>Urban</td>\n",
       "      <td>2/16/2018 13:52</td>\n",
       "      <td>17.92</td>\n",
       "      <td>8.210000e+11</td>\n",
       "    </tr>\n",
       "    <tr>\n",
       "      <th>3</th>\n",
       "      <td>Richardfort</td>\n",
       "      <td>38</td>\n",
       "      <td>Urban</td>\n",
       "      <td>2/1/2018 20:18</td>\n",
       "      <td>10.26</td>\n",
       "      <td>9.550000e+12</td>\n",
       "    </tr>\n",
       "    <tr>\n",
       "      <th>4</th>\n",
       "      <td>Richardfort</td>\n",
       "      <td>38</td>\n",
       "      <td>Urban</td>\n",
       "      <td>4/17/2018 2:26</td>\n",
       "      <td>23.00</td>\n",
       "      <td>7.200000e+11</td>\n",
       "    </tr>\n",
       "  </tbody>\n",
       "</table>\n",
       "</div>"
      ],
      "text/plain": [
       "          city  driver_count   type             date   fare       ride_id\n",
       "0  Richardfort            38  Urban   2/24/2018 8:40  13.93  5.630000e+12\n",
       "1  Richardfort            38  Urban  2/13/2018 12:46  14.00  9.100000e+11\n",
       "2  Richardfort            38  Urban  2/16/2018 13:52  17.92  8.210000e+11\n",
       "3  Richardfort            38  Urban   2/1/2018 20:18  10.26  9.550000e+12\n",
       "4  Richardfort            38  Urban   4/17/2018 2:26  23.00  7.200000e+11"
      ]
     },
     "execution_count": 6,
     "metadata": {},
     "output_type": "execute_result"
    }
   ],
   "source": [
    "# display the data table for preview\n",
    "combined.head()"
   ]
  },
  {
   "cell_type": "code",
   "execution_count": 7,
   "metadata": {},
   "outputs": [],
   "source": [
    "# Create Bubble Plot of Ride Sharing Data==="
   ]
  },
  {
   "cell_type": "code",
   "execution_count": 8,
   "metadata": {},
   "outputs": [],
   "source": [
    "# Determine the number of rides per city\n",
    "# start by creating city groups\n",
    "city_group = combined.groupby('city')\n",
    "#if just did city_group.mean(), we would get avg of every column for each city\n",
    "#by specifying \"fare\" column in brackets after .mean() we just get avg fare\n",
    "#for each city\n",
    "avg_fare = city_group.mean()['fare']\n",
    "ride_count = city_group['ride_id'].count()"
   ]
  },
  {
   "cell_type": "code",
   "execution_count": 9,
   "metadata": {
    "scrolled": true
   },
   "outputs": [
    {
     "data": {
      "text/html": [
       "<div>\n",
       "<style scoped>\n",
       "    .dataframe tbody tr th:only-of-type {\n",
       "        vertical-align: middle;\n",
       "    }\n",
       "\n",
       "    .dataframe tbody tr th {\n",
       "        vertical-align: top;\n",
       "    }\n",
       "\n",
       "    .dataframe thead th {\n",
       "        text-align: right;\n",
       "    }\n",
       "</style>\n",
       "<table border=\"1\" class=\"dataframe\">\n",
       "  <thead>\n",
       "    <tr style=\"text-align: right;\">\n",
       "      <th></th>\n",
       "      <th>driver_count</th>\n",
       "      <th>type</th>\n",
       "      <th>average_fare</th>\n",
       "      <th>number_of_rides</th>\n",
       "    </tr>\n",
       "    <tr>\n",
       "      <th>city</th>\n",
       "      <th></th>\n",
       "      <th></th>\n",
       "      <th></th>\n",
       "      <th></th>\n",
       "    </tr>\n",
       "  </thead>\n",
       "  <tbody>\n",
       "    <tr>\n",
       "      <th>Richardfort</th>\n",
       "      <td>38</td>\n",
       "      <td>Urban</td>\n",
       "      <td>22.373214</td>\n",
       "      <td>28</td>\n",
       "    </tr>\n",
       "    <tr>\n",
       "      <th>Williamsstad</th>\n",
       "      <td>59</td>\n",
       "      <td>Urban</td>\n",
       "      <td>24.362174</td>\n",
       "      <td>23</td>\n",
       "    </tr>\n",
       "    <tr>\n",
       "      <th>Port Angela</th>\n",
       "      <td>67</td>\n",
       "      <td>Urban</td>\n",
       "      <td>23.836842</td>\n",
       "      <td>19</td>\n",
       "    </tr>\n",
       "    <tr>\n",
       "      <th>Rodneyfort</th>\n",
       "      <td>34</td>\n",
       "      <td>Urban</td>\n",
       "      <td>28.616957</td>\n",
       "      <td>23</td>\n",
       "    </tr>\n",
       "    <tr>\n",
       "      <th>West Robert</th>\n",
       "      <td>39</td>\n",
       "      <td>Urban</td>\n",
       "      <td>25.123871</td>\n",
       "      <td>31</td>\n",
       "    </tr>\n",
       "  </tbody>\n",
       "</table>\n",
       "</div>"
      ],
      "text/plain": [
       "              driver_count   type  average_fare  number_of_rides\n",
       "city                                                            \n",
       "Richardfort             38  Urban     22.373214               28\n",
       "Williamsstad            59  Urban     24.362174               23\n",
       "Port Angela             67  Urban     23.836842               19\n",
       "Rodneyfort              34  Urban     28.616957               23\n",
       "West Robert             39  Urban     25.123871               31"
      ]
     },
     "execution_count": 9,
     "metadata": {},
     "output_type": "execute_result"
    }
   ],
   "source": [
    "# make new data frame by adding columns to city_data dataframe\n",
    "# set index to city so that the calculated values for each city can sync up with\n",
    "# the city name (index acts as a key)\n",
    "\n",
    "city_data = city_data.set_index(\"city\")\n",
    "city_data[\"average_fare\"] = avg_fare\n",
    "city_data[\"number_of_rides\"] = ride_count\n",
    "\n",
    "city_data.head()"
   ]
  },
  {
   "cell_type": "code",
   "execution_count": 24,
   "metadata": {},
   "outputs": [
    {
     "data": {
      "image/png": "[encoded data removed]",
      "text/plain": [
       "<Figure size 432x288 with 1 Axes>"
      ]
     },
     "metadata": {
      "needs_background": "light"
     },
     "output_type": "display_data"
    }
   ],
   "source": [
    "# need to create three diff sets of data to plot on the same graph so that we can have \n",
    "# different colors for urban, suburban, rural\n",
    "\n",
    "urban_group = city_data.loc[city_data[\"type\"] == \"Urban\"]\n",
    "suburban_group = city_data.loc[city_data[\"type\"] == \"Suburban\"]\n",
    "rural_group = city_data.loc[city_data[\"type\"] == \"Rural\"]\n",
    "\n",
    "#create bubble plot\n",
    "# the ax parameter is important bc without it you get three different plots\n",
    "#doing ax=urban_bubbles when plotting suburban and rural puts everything on one\n",
    "# s parameter left bubbles too small and it was hard to see diff sizes so i multiplied s parameter by numbers and found best looking value thru trial and error\n",
    "\n",
    "urban_bubbles = urban_group.plot(kind=\"scatter\", x=\"number_of_rides\", y=\"average_fare\", color=\"gold\", s=city_data[\"driver_count\"]*4, label = \"Urban\", alpha = 0.4, edgecolor = \"grey\", linewidths = 1)\n",
    "suburban_bubbles = suburban_group.plot(kind='scatter', x='number_of_rides', y='average_fare', color='lightcoral',s=city_data['driver_count']*4, label = 'Suburban', alpha = 0.4, edgecolor = \"grey\", linewidths = 1, ax=urban_bubbles)\n",
    "rural_bubbles = rural_group.plot(kind='scatter', x='number_of_rides', y='average_fare', color='lightskyblue',s=city_data['driver_count']*4, label = 'Rural', alpha = 0.4, edgecolor = \"grey\", linewidths = 1, ax=urban_bubbles)\n",
    "\n"
   ]
  },
  {
   "cell_type": "code",
   "execution_count": 25,
   "metadata": {},
   "outputs": [],
   "source": [
    "# ===== Pie Chart % of Total Fares by City Type ======"
   ]
  },
  {
   "cell_type": "code",
   "execution_count": 54,
   "metadata": {},
   "outputs": [],
   "source": [
    "# start by finding total fares overall, which requires using combined dataset\n",
    "#total_fares = combined[\"fare\"].sum()\n",
    "\n",
    "urban_combined = combined.loc[combined[\"type\"] == \"Urban\"]\n",
    "suburban_combined = combined.loc[combined[\"type\"] == \"Suburban\"]\n",
    "rural_combined = combined.loc[combined[\"type\"] == \"Rural\"]\n",
    "\n",
    "urban_fares = urban_combined[\"fare\"].sum()\n",
    "suburban_fares = suburban_combined[\"fare\"].sum()\n",
    "rural_fares = rural_combined[\"fare\"].sum()\n",
    "\n",
    "city_type = [\"Urban\", \"Suburban\", \"Rural\"]\n",
    "city_type_fares = [urban_fares, suburban_fares, rural_fares]\n",
    "city_type_colors = [\"gold\", \"lightcoral\", \"lightskyblue\"]\n",
    "city_fares_explode = [0.1, 0, 0]\n",
    "\n",
    "##dont need this, disregard\n",
    "\n",
    "#fares_df = pd.DataFrame(list(zip(city_type, city_type_fares)), columns=[\"city_type\", \"city_fares\"])\n",
    "#fares_df = fares_df.set_index(\"city_type\")\n",
    "\n",
    "#fares_df"
   ]
  },
  {
   "cell_type": "code",
   "execution_count": 55,
   "metadata": {},
   "outputs": [
    {
     "data": {
      "text/plain": [
       "(-1.1438782760795045,\n",
       " 1.0967103330300034,\n",
       " -1.2143053964633987,\n",
       " 1.1105238494029046)"
      ]
     },
     "execution_count": 55,
     "metadata": {},
     "output_type": "execute_result"
    },
    {
     "data": {
      "image/png": "[encoded data removed]",
      "text/plain": [
       "<Figure size 432x288 with 1 Axes>"
      ]
     },
     "metadata": {},
     "output_type": "display_data"
    }
   ],
   "source": [
    "# Tell matplotlib to create a pie chart based upon the above data\n",
    "plt.pie(city_type_fares, explode=city_fares_explode, labels=city_type, colors=city_type_colors, autopct=\"%1.1f%%\",\n",
    " shadow=True, startangle=140)\n",
    "# Create equal axes for nice circle\n",
    "plt.axis(\"equal\")"
   ]
  },
  {
   "cell_type": "code",
   "execution_count": 56,
   "metadata": {},
   "outputs": [],
   "source": [
    "# ======= % of Total Rides by City Type ======="
   ]
  },
  {
   "cell_type": "code",
   "execution_count": 59,
   "metadata": {},
   "outputs": [],
   "source": [
    "urban_rides = urban_combined[\"ride_id\"].count()\n",
    "suburban_rides = suburban_combined[\"ride_id\"].count()\n",
    "rural_rides = rural_combined[\"ride_id\"].count()\n",
    "\n",
    "city_type = [\"Urban\", \"Suburban\", \"Rural\"]\n",
    "city_type_rides = [urban_rides, suburban_rides, rural_rides]\n",
    "city_type_colors = [\"gold\", \"lightcoral\", \"lightskyblue\"]\n",
    "city_rides_explode = [0.1, 0, 0]"
   ]
  },
  {
   "cell_type": "code",
   "execution_count": 60,
   "metadata": {},
   "outputs": [
    {
     "data": {
      "text/plain": [
       "(-1.1292108621510477,\n",
       " 1.1004433598584253,\n",
       " -1.2197889877095416,\n",
       " 1.1156314644572782)"
      ]
     },
     "execution_count": 60,
     "metadata": {},
     "output_type": "execute_result"
    },
    {
     "data": {
      "image/png": "[encoded data removed]",
      "text/plain": [
       "<Figure size 432x288 with 1 Axes>"
      ]
     },
     "metadata": {},
     "output_type": "display_data"
    }
   ],
   "source": [
    "# create pie chart for ride numbers\n",
    "plt.pie(city_type_rides, explode=city_rides_explode, labels=city_type, colors=city_type_colors, autopct=\"%1.1f%%\",\n",
    " shadow=True, startangle=140)\n",
    "# Create equal axes for nice circle\n",
    "plt.axis(\"equal\")"
   ]
  },
  {
   "cell_type": "code",
   "execution_count": null,
   "metadata": {},
   "outputs": [],
   "source": []
  }
 ],
 "metadata": {
  "kernelspec": {
   "display_name": "Python 3",
   "language": "python",
   "name": "python3"
  },
  "language_info": {
   "codemirror_mode": {
    "name": "ipython",
    "version": 3
   },
   "file_extension": ".py",
   "mimetype": "text/x-python",
   "name": "python",
   "nbconvert_exporter": "python",
   "pygments_lexer": "ipython3",
   "version": "3.6.6"
  }
 },
 "nbformat": 4,
 "nbformat_minor": 2
}
